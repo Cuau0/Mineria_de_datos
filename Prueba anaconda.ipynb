{
 "cells": [
  {
   "cell_type": "code",
   "execution_count": 1,
   "metadata": {},
   "outputs": [
    {
     "name": "stdout",
     "output_type": "stream",
     "text": [
      "Hola mundo\n"
     ]
    }
   ],
   "source": [
    "print\"Hola mundo\""
   ]
  },
  {
   "cell_type": "code",
   "execution_count": 2,
   "metadata": {},
   "outputs": [
    {
     "name": "stdout",
     "output_type": "stream",
     "text": [
      "Asi se ve anaconda\n"
     ]
    }
   ],
   "source": [
    "print\"Asi se ve anaconda\""
   ]
  },
  {
   "cell_type": "markdown",
   "metadata": {},
   "source": [
    "# Python simple"
   ]
  },
  {
   "cell_type": "code",
   "execution_count": 57,
   "metadata": {},
   "outputs": [
    {
     "name": "stdout",
     "output_type": "stream",
     "text": [
      "3\n",
      "5\n",
      "La suma es: 8\n",
      "La resta es: -2\n",
      "La multiplicación: 15\n",
      "La division entera 0\n",
      "La division con fraccion 0.6\n"
     ]
    }
   ],
   "source": [
    "from __future__ import division\n",
    "\n",
    "a = int(raw_input())\n",
    "b = int(raw_input())\n",
    "\n",
    "print \"La suma es:\",a+b\n",
    "print \"La resta es:\", a-b\n",
    "print \"La multiplicación:\", a*b\n",
    "\n",
    "print \"La division entera\",a//b\n",
    "print \"La division con fraccion\",a/b"
   ]
  },
  {
   "cell_type": "markdown",
   "metadata": {},
   "source": [
    "## Tipos de datos"
   ]
  },
  {
   "cell_type": "code",
   "execution_count": 140,
   "metadata": {},
   "outputs": [
    {
     "name": "stdout",
     "output_type": "stream",
     "text": [
      "{'Lastname': 'Pedro', 'Name': 'Juan'}\n",
      "('Hola mundo', 30, ('hola mundo', 10), True)\n",
      "[10, 20, 'bye', False]\n",
      "<type 'dict'>\n"
     ]
    }
   ],
   "source": [
    "#Tipos de datos\n",
    "\n",
    "#String\n",
    "Cadena = \"Hola mundo\"\n",
    "\n",
    "#Inetero\n",
    "Int = 30\n",
    "\n",
    "#Tuple; Las tuplas No se pueden cambiar\n",
    "tupla = (\"hola mundo\", 10)\n",
    "tupla1 = ()\n",
    "\n",
    "#Buelan\n",
    "Buleano = True\n",
    "\n",
    "#List; sí se puede cambiar\n",
    "Lista = [10, 20, 20, 30]\n",
    "Lista1 = [\"Hola\", \"bye\", \"adios\"]\n",
    "Lista2 = [10, 20, \"bye\", False]\n",
    "Lista3 = []\n",
    "\n",
    "#Diccionare\n",
    "print({\n",
    "    \"Name\": \"Juan\",\n",
    "    \"Lastname\":\"Pedro\" \n",
    "})\n",
    "\n",
    "print(Cadena, Int, tupla, Buleano)\n",
    "print(Lista2)\n",
    "\n",
    "print(type({\n",
    "    \"Name\": \"Juan\",\n",
    "    \"Lastname\":\"Pedro\" \n",
    "}))"
   ]
  },
  {
   "cell_type": "markdown",
   "metadata": {},
   "source": [
    "## Variables"
   ]
  },
  {
   "cell_type": "code",
   "execution_count": 142,
   "metadata": {},
   "outputs": [
    {
     "name": "stdout",
     "output_type": "stream",
     "text": [
      "(100, 'bool')\n"
     ]
    }
   ],
   "source": [
    "# Para nombrar una variable se necesita el simbolo =\n",
    "# Almacenar dos datos en una linea\n",
    "x,y = 100 , \"bool\"\n",
    "print(x,y)"
   ]
  },
  {
   "cell_type": "markdown",
   "metadata": {},
   "source": [
    "### Strings"
   ]
  },
  {
   "cell_type": "code",
   "execution_count": 187,
   "metadata": {},
   "outputs": [
    {
     "name": "stdout",
     "output_type": "stream",
     "text": [
      "HOLA COMO ESTAS\n",
      "hola como estas\n",
      "hOLA cOMO ESTAS\n",
      "Hola como estas\n",
      "ADIOS COMO ESTAS\n",
      "3\n",
      "True\n",
      "True\n",
      "['Hola', 'Como', 'estas']\n",
      "['H', 'la C', 'm', ' estas']\n",
      "0\n",
      "15\n",
      "1\n",
      "Ho\n",
      "s\n",
      "Bueno Hola Como estas\n",
      "('Bueno ', 'Hola Como estas')\n",
      "Bueno Hola Como estas\n"
     ]
    }
   ],
   "source": [
    "mi_str = \"Hola Como estas\"\n",
    "#Mayusculas y minusculas\n",
    "print(mi_str.upper())\n",
    "print(mi_str.lower())\n",
    "print(mi_str.swapcase())\n",
    "print(mi_str.capitalize())\n",
    "\n",
    "#Que metodos puedo utilizar\n",
    "#print(dir(mi_str))\n",
    "\n",
    "#Remplazar\n",
    "print(mi_str.replace(\"Hola\", \"Adios\").upper())\n",
    "\n",
    "#Contar caracteres\n",
    "print(mi_str.count(\"o\"))\n",
    "\n",
    "#Si empieza la palabra Hola y termina con la letra s\n",
    "print(mi_str.startswith(\"Hola\"))\n",
    "print(mi_str.endswith(\"s\"))\n",
    "\n",
    "#Separ un string\n",
    "print(mi_str.split()) # apartir de espacios\n",
    "print(mi_str.split(\"o\")) # a partir de una \"o\"\n",
    "\n",
    "#posicion de una cadena y python empieza desde 0\n",
    "print(mi_str.find(\"H\"))\n",
    "print(len(mi_str)) # cuanta los caracteres de la cadena\n",
    "print(mi_str.index(\"o\"))\n",
    "\n",
    "print(mi_str[0:2]) # no cuenta el valor 2\n",
    "print(mi_str[-1])\n",
    "\n",
    "print(\"Bueno \" + mi_str)\n",
    "print(\"Bueno \", mi_str) #Lo combierte en un tuple\n",
    "print(\"Bueno {0}\".format(mi_str))"
   ]
  },
  {
   "cell_type": "markdown",
   "metadata": {},
   "source": [
    "### Numeros"
   ]
  },
  {
   "cell_type": "code",
   "execution_count": 198,
   "metadata": {},
   "outputs": [
    {
     "name": "stdout",
     "output_type": "stream",
     "text": [
      "Inserte tu edad: 23\n",
      "A ver tu edad:23\n",
      "28\n",
      "(<type 'int'>, 23)\n"
     ]
    }
   ],
   "source": [
    "edad = int(raw_input(\"Inserte tu edad: \" ))\n",
    "edad1 = input(\"A ver tu edad:\")\n",
    "print(edad + 5)\n",
    "print(type(edad1), edad1)"
   ]
  },
  {
   "cell_type": "markdown",
   "metadata": {},
   "source": [
    "### Listas"
   ]
  },
  {
   "cell_type": "code",
   "execution_count": 393,
   "metadata": {},
   "outputs": [
    {
     "name": "stdout",
     "output_type": "stream",
     "text": [
      "(<type 'list'>, [1, 2, 3, 4, 5, 6, 7, 8, 9], 9)\n",
      "(<type 'list'>, [[1, 2, 3, 4, 5, 6, 7, 8, 9]], 1)\n",
      "(<type 'list'>, [1, 2, 3, 4, 5, 6, 7, 8, 9], 9)\n",
      "[1, 2, 3]\n",
      "1\n",
      "False\n",
      "True\n",
      "[1, 'Se cambio', 3, 4, 5, 6, 7, 8, 9]\n",
      "[1, 'Se cambio', 3, 4, 5, 6, 7, 8, 9, 10, [11, 12], (11, 12), 13, 10]\n",
      "[1, 'Se cambio', 'Se inserto en esta posi', 3, 'Se agreg', 4, 5, 6, 7, 8, 9, 10, [11, 12], (11, 12), 13, 10, 'Se inserto en la ultima']\n",
      "['Se cambio', 'Se inserto en esta posi', 3, 'Se agreg', 4, 5, 6, 7, 8, 9, [11, 12], (11, 12), 13, 10]\n",
      "[(11, 12), 'Se inserto en esta posi', 'Se cambio', 'Se agreg', [11, 12], 13, 10, 9, 8, 7, 6, 5, 4, 3]\n",
      "2\n",
      "2\n"
     ]
    }
   ],
   "source": [
    "nueva_lista = [1, \"hola\", [1,2,3], (1,2), (\"hola\", \"bebe\")]\n",
    "nueva_lista\n",
    "\n",
    "lista_de = range(1,10) #Lista \n",
    "print(type(lista_de), lista_de, len(lista_de))\n",
    "\n",
    "lista2 = [range(1,10)] #Lista de una lista\n",
    "print(type(lista2),lista2,len(lista2))\n",
    "\n",
    "lista3 = (range(1,10)) #Lista\n",
    "print(type(lista3), lista3, len(lista3))\n",
    "\n",
    "#Metodos de una lista\n",
    "#print(dir(lista2))\n",
    "\n",
    "#posiciones\n",
    "print(lista3[0:3])\n",
    "print(lista3[-9])\n",
    "\n",
    "#Comprobar si exite dentro de la lista\n",
    "print(\"3\" in lista3)\n",
    "print(3 in lista3)\n",
    "\n",
    "#Cambiar elementos de una lista\n",
    "lista3[1] = \"Se cambio\"\n",
    "print(lista3)\n",
    "\n",
    "#Metodos\n",
    "#Agregar elemenos a uns lista\n",
    "lista3.append(10) #Agrega un elemento \n",
    "lista3.append([11,12]) #Agrega como una lista\n",
    "lista3.append((11,12)) #Agrega como una tupla\n",
    "lista3.extend([13,10])#Agrega los elementos de la lista\n",
    "print(lista3)\n",
    "\n",
    "#Insertar en una posicion\n",
    "lista3.insert(2,\"Se inserto en esta posi\")\n",
    "lista3.insert(len(lista3), \"Se inserto en la ultima\")\n",
    "lista3.insert(4, \"Se agreg\")\n",
    "print lista3\n",
    "\n",
    "#Quitar elementos\n",
    "lista3.pop() #Se quita el ultimo elemento y asi ret\n",
    "lista3.remove(10) #Me quita el primer elemento \"10\" que encuentra\n",
    "lista3.pop(0) #Quita el elemento del indice 0\n",
    "print(lista3)\n",
    "\n",
    "#Ordena\n",
    "lista3.sort() #ordenar alfabeticamente\n",
    "lista3.sort(reverse = True) #Ordenar de la z a la a\n",
    "print(lista3)\n",
    "\n",
    "#Muestra el indece\n",
    "print(lista3.index(\"Se cambio\"))\n",
    "\n",
    "lista3.append(10)\n",
    "print(lista3.count(10))"
   ]
  },
  {
   "cell_type": "markdown",
   "metadata": {},
   "source": [
    "### Tuplas"
   ]
  },
  {
   "cell_type": "code",
   "execution_count": 292,
   "metadata": {},
   "outputs": [
    {
     "name": "stdout",
     "output_type": "stream",
     "text": [
      "(<type 'tuple'>, (1, 2, 3))\n",
      "(1, 'Feb', 3)\n",
      "<type 'str'>\n",
      "(<type 'tuple'>, (1,))\n",
      "3\n",
      "{(35.45895, 495.0): 'Tokio', (23.43553, 332.423): 'EU'}\n"
     ]
    }
   ],
   "source": [
    "# Son datos inmutables y son un poco más rapidos que las listas\n",
    "x = (1,2,3)\n",
    "print(type(x),x)\n",
    "y = (1,\"Feb\", 3)\n",
    "print(y)\n",
    "\n",
    "tuple((1,2,3))\n",
    "#print(dir(x)) #Tiene menos metodos porque no se cambian\n",
    "\n",
    "x = (\"Hola\")\n",
    "print(type(x))\n",
    "\n",
    "y = (1,) #Lo convertimos en tupla\n",
    "print(type(y),y)\n",
    "\n",
    "z = (1,2,3,4)\n",
    "print(z[2])\n",
    "\n",
    "# z[2] = 10 no se puede \n",
    "\n",
    "del x #Elimina la tupla\n",
    "\n",
    "# SE USA MUCHO EN DICCIONARIOS\n",
    "\n",
    "locacion = {\n",
    "    (35.45895,495.000):\"Tokio\",\n",
    "    (23.43553,332.423):\"EU\"\n",
    "}\n",
    "print(locacion)"
   ]
  },
  {
   "cell_type": "markdown",
   "metadata": {},
   "source": [
    "### Sets"
   ]
  },
  {
   "cell_type": "code",
   "execution_count": 302,
   "metadata": {},
   "outputs": [
    {
     "name": "stdout",
     "output_type": "stream",
     "text": [
      "set(['a', 'c', 'b'])\n",
      "(<type 'set'>, set(['a', 'c', 'b']))\n",
      "True\n",
      "set(['a', 'c', 'b', 'd', 'prin'])\n",
      "set(['a', 'c', 'b', 'd'])\n",
      "set([])\n"
     ]
    },
    {
     "ename": "NameError",
     "evalue": "name 'col' is not defined",
     "output_type": "error",
     "traceback": [
      "\u001b[1;31m\u001b[0m",
      "\u001b[1;31mNameError\u001b[0mTraceback (most recent call last)",
      "\u001b[1;32m<ipython-input-302-bbb202b497e0>\u001b[0m in \u001b[0;36m<module>\u001b[1;34m()\u001b[0m\n\u001b[0;32m     16\u001b[0m \u001b[1;33m\u001b[0m\u001b[0m\n\u001b[0;32m     17\u001b[0m \u001b[1;32mdel\u001b[0m \u001b[0mcol\u001b[0m\u001b[1;33m\u001b[0m\u001b[0m\n\u001b[1;32m---> 18\u001b[1;33m \u001b[1;32mprint\u001b[0m\u001b[1;33m(\u001b[0m\u001b[0mcol\u001b[0m\u001b[1;33m)\u001b[0m\u001b[1;33m\u001b[0m\u001b[0m\n\u001b[0m",
      "\u001b[1;31mNameError\u001b[0m: name 'col' is not defined"
     ]
    }
   ],
   "source": [
    "#No tienen un indice\n",
    "col = {\"a\",\"b\",\"c\"}\n",
    "print(col)\n",
    "print(type(col), col)\n",
    "print(\"b\" in col)\n",
    "\n",
    "col.add(\"d\")\n",
    "col.add(\"prin\")\n",
    "print(col)\n",
    "\n",
    "col.remove(\"prin\")\n",
    "print(col)\n",
    "\n",
    "col.clear()\n",
    "print(col)\n",
    "\n",
    "#del col\n",
    "#print(col)\n",
    "\n",
    "#Datos que no quieres que esten ordenados, solo agregar "
   ]
  },
  {
   "cell_type": "markdown",
   "metadata": {},
   "source": [
    "### Dictionary"
   ]
  },
  {
   "cell_type": "code",
   "execution_count": 313,
   "metadata": {},
   "outputs": [
    {
     "name": "stdout",
     "output_type": "stream",
     "text": [
      "<type 'dict'>\n",
      "['cantida', 'precio', 'name']\n",
      "[('cantida', 3), ('precio', 2.3), ('name', ('libro1', 'libro2'))]\n",
      "{}\n",
      "[{'nombre': 'libro1', 'precio': 10}, {'persona': 'Juan', 'Apellido': 'Pedro'}]\n"
     ]
    }
   ],
   "source": [
    "#Sirven para agrupar datos\n",
    "carro ={\n",
    "    \"name\": (\"libro1\", \"libro2\"),\n",
    "    \"precio\": 2.3,\n",
    "    \"cantida\":3\n",
    "}\n",
    "\n",
    "print(type(carro))\n",
    "#print(dir(carro))\n",
    "\n",
    "# Los nombres de las claves\n",
    "print(carro.keys())\n",
    "\n",
    "# Las claves con sus valores\n",
    "print(carro.items())\n",
    "\n",
    "# del carro\n",
    "carro.clear()\n",
    "print(carro)\n",
    "\n",
    "#Podemos contruir una lista de varios diccionarios \n",
    "carros = [\n",
    "    {\"nombre\": \"libro1\", \"precio\": 10},\n",
    "    {\"persona\": \"Juan\", \"Apellido\": \"Pedro\"}\n",
    "]\n",
    "\n",
    "print(carros)\n"
   ]
  },
  {
   "cell_type": "markdown",
   "metadata": {},
   "source": [
    "# Condicionales"
   ]
  },
  {
   "cell_type": "code",
   "execution_count": 341,
   "metadata": {},
   "outputs": [
    {
     "name": "stdout",
     "output_type": "stream",
     "text": [
      "False\n",
      "True\n",
      "True\n",
      "x >= 3\n",
      "Es otro\n",
      "Tu no eres Pedro Oliva\n",
      "esta bien\n",
      "Uno esta bien\n",
      "No son iguales\n",
      "No Son iguales\n"
     ]
    }
   ],
   "source": [
    "print(4 < 3)\n",
    "print(2 < 6)\n",
    "print(3 == 3)\n",
    "\n",
    "x = 3\n",
    "if (x < 3):\n",
    "    print(\"x < 3\")\n",
    "else:\n",
    "    print(\"x >= 3\")\n",
    "\n",
    "\n",
    "color = \"blu\"\n",
    "if color == \"Rojo\":\n",
    "    print(\"Es Rojo\")\n",
    "elif color == \"blue\":\n",
    "    print(\"es azul\")\n",
    "else:\n",
    "    print(\"Es otro\")\n",
    "    \n",
    "nombre = \"Pedo\"\n",
    "apellido = \"Oliv\"\n",
    "if nombre == \"Pedro\":\n",
    "    if apellido == \"Oliva\":\n",
    "        print(\"tu eres Pedro Oliva\")\n",
    "    else: \n",
    "        print(\"No se quien eres\")\n",
    "else:\n",
    "    print(\"Tu no eres Pedro Oliva\")\n",
    "\n",
    "    \n",
    "x = 10\n",
    "y = 15\n",
    "if (x < 11 and y > 10):\n",
    "    print(\"esta bien\")\n",
    "\n",
    "if (x < 11 or y > 20):\n",
    "    print(\"Uno esta bien\")\n",
    "    \n",
    "if (x == y):\n",
    "    print(\"Son iguales\")\n",
    "else: \n",
    "    print(\"No son iguales\")\n",
    "\n",
    "if not(x == y):\n",
    "    print(\"No Son iguales\")\n",
    "else:\n",
    "    print(\"Son iguales\")"
   ]
  },
  {
   "cell_type": "markdown",
   "metadata": {},
   "source": [
    "# Bucles (Loops)"
   ]
  },
  {
   "cell_type": "code",
   "execution_count": 385,
   "metadata": {},
   "outputs": [
    {
     "name": "stdout",
     "output_type": "stream",
     "text": [
      "<type 'list'>\n",
      "3\n",
      "son tres\n",
      "son tres\n",
      "son tres\n",
      "manzana\n",
      "banana\n",
      "sandia\n",
      "6\n",
      "<type 'str'>\n",
      "L1\n",
      "L2\n",
      "Aqui esta el libro L3\n",
      "L3\n",
      "L1\n",
      "L2\n",
      "L1\n",
      "L3\n",
      "1\n",
      "2\n",
      "3\n",
      "L\n",
      "e\n",
      "t\n",
      "r\n",
      "a\n",
      "s\n"
     ]
    }
   ],
   "source": [
    "comida = [\"manzana\",\"banana\",\"sandia\"]\n",
    "print(type(comida))\n",
    "print(len(comida))\n",
    "\n",
    "for i in comida:\n",
    "    if len(comida) == 3:\n",
    "        print(\"son tres\")\n",
    "\n",
    "## Ahora comida conserva el ultimo valor asignado\n",
    "for comida in comida:\n",
    "    print(comida)    \n",
    "\n",
    "print(len(comida))\n",
    "print(type(comida))\n",
    "\n",
    "libro = [\"L1\", \"L2\", \"L3\"]\n",
    "for i in libro:\n",
    "    if i == \"L3\":\n",
    "        print(\"Aqui esta el libro L3\")\n",
    "    print(i)\n",
    "        \n",
    "#Rompe el ciclo for cuando i == L3\n",
    "libro = [\"L1\", \"L2\", \"L3\"]\n",
    "for i in libro:\n",
    "    if i == \"L3\":\n",
    "        break\n",
    "    print(i)\n",
    "\n",
    "#Se salta o continua el ciclo for cuando i == L3\n",
    "for i in libro:\n",
    "    if i == \"L2\":\n",
    "        continue\n",
    "    print(i)\n",
    "    \n",
    "#Para numeros enteros\n",
    "for i in range(3):\n",
    "    print(i+1)\n",
    "    \n",
    "#Para strings\n",
    "for i in \"Letras\":\n",
    "    print(i)"
   ]
  },
  {
   "cell_type": "markdown",
   "metadata": {},
   "source": [
    "### While"
   ]
  },
  {
   "cell_type": "code",
   "execution_count": 388,
   "metadata": {},
   "outputs": [
    {
     "name": "stdout",
     "output_type": "stream",
     "text": [
      "4\n",
      "5\n",
      "6\n",
      "7\n",
      "8\n",
      "9\n",
      "10\n"
     ]
    }
   ],
   "source": [
    "contador = 4\n",
    "while contador <= 10:\n",
    "    print contador\n",
    "    contador = contador + 1"
   ]
  },
  {
   "cell_type": "markdown",
   "metadata": {},
   "source": [
    "# Functions"
   ]
  },
  {
   "cell_type": "code",
   "execution_count": 392,
   "metadata": {},
   "outputs": [
    {
     "name": "stdout",
     "output_type": "stream",
     "text": [
      "Hola\n",
      "Hola Pedro\n",
      "Hola persona\n"
     ]
    }
   ],
   "source": [
    "def Hello():\n",
    "    print(\"Hola\")\n",
    "    \n",
    "Hello()\n",
    "\n",
    "def saluda(persona = \"persona\"):\n",
    "    print(\"Hola \" + persona)\n",
    "\n",
    "saluda(\"Pedro\")\n",
    "saluda()"
   ]
  },
  {
   "cell_type": "code",
   "execution_count": 27,
   "metadata": {},
   "outputs": [
    {
     "name": "stdout",
     "output_type": "stream",
     "text": [
      "3\n",
      "0\n",
      "1\n",
      "4\n"
     ]
    }
   ],
   "source": [
    "a = int(raw_input())\n",
    "for i in range(a):\n",
    "    print pow(i,2)"
   ]
  },
  {
   "cell_type": "code",
   "execution_count": 29,
   "metadata": {},
   "outputs": [
    {
     "name": "stdout",
     "output_type": "stream",
     "text": [
      "3\n"
     ]
    },
    {
     "data": {
      "text/plain": [
       "[0, 1, 2]"
      ]
     },
     "execution_count": 29,
     "metadata": {},
     "output_type": "execute_result"
    }
   ],
   "source": [
    "#Un vector de numeros naturales\n",
    "a = int(raw_input())\n",
    "range(a)"
   ]
  },
  {
   "cell_type": "code",
   "execution_count": 80,
   "metadata": {},
   "outputs": [
    {
     "data": {
      "text/plain": [
       "True"
      ]
     },
     "execution_count": 80,
     "metadata": {},
     "output_type": "execute_result"
    }
   ],
   "source": [
    "def is_leap(year):\n",
    "    leap = False\n",
    "\n",
    "    if int(year) % 4 != 0 and (int(year) % 400 != 0 or int(year) % 100 == 0) or year == 2100:\n",
    "\n",
    "        return leap\n",
    "\n",
    "    else: return True\n",
    "    \n",
    "is_leap(2000)"
   ]
  },
  {
   "cell_type": "code",
   "execution_count": 92,
   "metadata": {},
   "outputs": [
    {
     "name": "stdout",
     "output_type": "stream",
     "text": [
      "4\n",
      "1234\n"
     ]
    }
   ],
   "source": [
    "from __future__ import print_function\n",
    "n = int(raw_input())\n",
    "print(*range(1,n+1), sep = '')"
   ]
  },
  {
   "cell_type": "code",
   "execution_count": 37,
   "metadata": {},
   "outputs": [
    {
     "name": "stdout",
     "output_type": "stream",
     "text": [
      "1\n",
      "1\n",
      "1\n",
      "3\n",
      "[[0, 0, 0], [0, 0, 1], [0, 1, 0], [0, 1, 1], [1, 0, 0], [1, 0, 1], [1, 1, 0]]\n",
      "[0, 0, 0]\n",
      "[0, 0, 1]\n",
      "[0, 1, 0]\n",
      "[0, 1, 1]\n",
      "[1, 0, 0]\n",
      "[1, 0, 1]\n",
      "[1, 1, 0]\n"
     ]
    }
   ],
   "source": [
    "x = int(raw_input())\n",
    "y = int(raw_input())\n",
    "z = int(raw_input())\n",
    "n = int(raw_input())\n",
    "\n",
    "print [[i, j, k] for i in range(x + 1) for j in range(y + 1) for k in range(z + 1) if ( (i+j+k) != n )]\n",
    "\n",
    "for i in range(x + 1): \n",
    "    for j in range(y + 1):\n",
    "        for k in range(z + 1): \n",
    "            if ((i+j+k) != n):\n",
    "                 print [i, j, k] "
   ]
  },
  {
   "cell_type": "code",
   "execution_count": 55,
   "metadata": {},
   "outputs": [
    {
     "name": "stdout",
     "output_type": "stream",
     "text": [
      "5\n",
      "[[0], [1], [2], [3], [5]]\n",
      "6\n"
     ]
    }
   ],
   "source": [
    "x = int(raw_input())\n",
    "\n",
    "print [[i] for i in range(x+1) if (i != 4)]\n",
    "\n",
    "if x in range(10):\n",
    "    print x+1"
   ]
  },
  {
   "cell_type": "code",
   "execution_count": 79,
   "metadata": {},
   "outputs": [
    {
     "name": "stdout",
     "output_type": "stream",
     "text": [
      "4\n",
      "2 5 8 5 1\n"
     ]
    },
    {
     "data": {
      "text/plain": [
       "5"
      ]
     },
     "execution_count": 79,
     "metadata": {},
     "output_type": "execute_result"
    }
   ],
   "source": [
    " n = int(raw_input())\n",
    "arr = map(int, raw_input().split())\n",
    "arr.sort(reverse=False)\n",
    "arr[2]"
   ]
  },
  {
   "cell_type": "code",
   "execution_count": 117,
   "metadata": {},
   "outputs": [
    {
     "name": "stdout",
     "output_type": "stream",
     "text": [
      "2\n",
      "juan\n",
      "2.3\n",
      "pd\n",
      "4.3\n"
     ]
    }
   ],
   "source": [
    "for _ in range(int(raw_input())):\n",
    "    nam = []\n",
    "    name = (raw_input())\n",
    "    score = float(raw_input())  \n",
    "name = nam.append(name)\n",
    "name"
   ]
  },
  {
   "cell_type": "code",
   "execution_count": 129,
   "metadata": {},
   "outputs": [
    {
     "name": "stdout",
     "output_type": "stream",
     "text": [
      "HolaMundo\n",
      "<type 'tuple'>\n",
      "('juan', 'pedro', 3, 'Juan1', 'Pedro2')\n"
     ]
    }
   ],
   "source": [
    "#Uniendo strings: es una cadena de caracteres\n",
    "Nombres3 = \"Hola\"\n",
    "Nombres4 = \"Mundo\"\n",
    "print(Nombres3 + Nombres4)\n",
    "\n",
    "#Uniendo tuple: Al parecer tuple o tupla es un vector\n",
    "Nom = ()\n",
    "Nombres = (\"juan\", \"pedro\" ,3) \n",
    "Nombres2 = (\"Juan1\", \"Pedro2\")\n",
    "print(type(Nombres))\n",
    "print(Nom + Nombres + Nombres2)"
   ]
  },
  {
   "cell_type": "code",
   "execution_count": 114,
   "metadata": {},
   "outputs": [
    {
     "name": "stdout",
     "output_type": "stream",
     "text": [
      "2\n",
      "juan\n",
      "2.3\n",
      "pedro\n",
      "3.4\n",
      "pedro\n"
     ]
    }
   ],
   "source": [
    "marksheet = []\n",
    "for _ in range(0,int(input())):\n",
    "    marksheet.append([raw_input(), float(raw_input())])\n",
    "\n",
    "second_highest = sorted(list(set([marks for name, marks in marksheet])))[1]\n",
    "print('\\n'.join([a for a,b in sorted(marksheet) if b == second_highest]))"
   ]
  },
  {
   "cell_type": "code",
   "execution_count": 124,
   "metadata": {},
   "outputs": [
    {
     "name": "stdout",
     "output_type": "stream",
     "text": [
      "<type 'str'>\n",
      "<type 'int'>\n"
     ]
    }
   ],
   "source": [
    "#Como saber la clase de un objeto\n",
    "Hola = \"Hola mundo\"\n",
    "print(type(Hola))\n",
    "print(type(2))"
   ]
  },
  {
   "cell_type": "markdown",
   "metadata": {},
   "source": []
  }
 ],
 "metadata": {
  "kernelspec": {
   "display_name": "Python 2",
   "language": "python",
   "name": "python2"
  },
  "language_info": {
   "codemirror_mode": {
    "name": "ipython",
    "version": 2
   },
   "file_extension": ".py",
   "mimetype": "text/x-python",
   "name": "python",
   "nbconvert_exporter": "python",
   "pygments_lexer": "ipython2",
   "version": "2.7.16"
  }
 },
 "nbformat": 4,
 "nbformat_minor": 2
}
